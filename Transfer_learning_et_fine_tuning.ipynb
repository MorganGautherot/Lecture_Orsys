{
  "nbformat": 4,
  "nbformat_minor": 0,
  "metadata": {
    "colab": {
      "name": "Transfer_learning_et_fine_tuning.ipynb",
      "provenance": [],
      "collapsed_sections": []
    },
    "kernelspec": {
      "name": "python3",
      "display_name": "Python 3"
    },
    "language_info": {
      "name": "python"
    }
  },
  "cells": [
    {
      "cell_type": "markdown",
      "source": [
        "Dans ce notebook, vous apprendrez à classer des images de chats et de chiens en utilisant un transfert learning à partir d'un réseau pré-entraîné sur le jeu de données [ImageNet](https://www.image-net.org/update-mar-11-2021.php)."
      ],
      "metadata": {
        "id": "tBNT180pPvje"
      }
    },
    {
      "cell_type": "markdown",
      "source": [
        "# Importation des données"
      ],
      "metadata": {
        "id": "z6nC13bCP8tV"
      }
    },
    {
      "cell_type": "code",
      "execution_count": null,
      "metadata": {
        "id": "vI7zzTYZPnF2"
      },
      "outputs": [],
      "source": [
        "import matplotlib.pyplot as plt\n",
        "import numpy as np\n",
        "import os\n",
        "import tensorflow as tf\n",
        "from tensorflow.keras.preprocessing.image import ImageDataGenerator"
      ]
    },
    {
      "cell_type": "markdown",
      "source": [
        "# Chargement des données"
      ],
      "metadata": {
        "id": "DRxYUmHSQJkr"
      }
    },
    {
      "cell_type": "markdown",
      "source": [
        "Téléchargement des données"
      ],
      "metadata": {
        "id": "YAaEvsMzQOAj"
      }
    },
    {
      "cell_type": "code",
      "source": [
        "_URL = 'https://storage.googleapis.com/mledu-datasets/cats_and_dogs_filtered.zip'\n",
        "path_to_zip = tf.keras.utils.get_file('cats_and_dogs.zip', origin=_URL, extract=True)\n",
        "PATH = os.path.join(os.path.dirname(path_to_zip), 'cats_and_dogs_filtered')"
      ],
      "metadata": {
        "id": "BQoC69nBP_Ay"
      },
      "execution_count": null,
      "outputs": []
    },
    {
      "cell_type": "markdown",
      "source": [
        "Sauvegarde des PATH"
      ],
      "metadata": {
        "id": "LhmGsbycQNlL"
      }
    },
    {
      "cell_type": "code",
      "source": [
        "train_dir = os.path.join(PATH, 'train')\n",
        "validation_dir = os.path.join(PATH, 'validation')"
      ],
      "metadata": {
        "id": "NapORpfMQIOo"
      },
      "execution_count": null,
      "outputs": []
    },
    {
      "cell_type": "markdown",
      "source": [
        "# Fixer les hyperparamètres"
      ],
      "metadata": {
        "id": "G6skY7XVQTOl"
      }
    },
    {
      "cell_type": "code",
      "source": [
        "BATCH_SIZE = 32\n",
        "IMG_SIZE = (160, 160)"
      ],
      "metadata": {
        "id": "NfdyjDPtQW2B"
      },
      "execution_count": null,
      "outputs": []
    },
    {
      "cell_type": "markdown",
      "source": [
        "# Initialiser les générateurs"
      ],
      "metadata": {
        "id": "dWpSVZfgQarQ"
      }
    },
    {
      "cell_type": "markdown",
      "source": [
        "Pour le jeu d'entraînement."
      ],
      "metadata": {
        "id": "XLLkQvMNQiIq"
      }
    },
    {
      "cell_type": "markdown",
      "source": [
        "Utiliser `ImageDataGenerator` et `flow_from_directory`"
      ],
      "metadata": {
        "id": "eKafXIIva8Qh"
      }
    },
    {
      "cell_type": "code",
      "source": [
        "train_datagen = None\n",
        "\n",
        "train_gen = None"
      ],
      "metadata": {
        "id": "y6KRSwmFRUig"
      },
      "execution_count": null,
      "outputs": []
    },
    {
      "cell_type": "markdown",
      "source": [
        "Pour le jeu de validation."
      ],
      "metadata": {
        "id": "P0fFIpxcQkJX"
      }
    },
    {
      "cell_type": "markdown",
      "source": [
        "Utiliser `ImageDataGenerator` et `flow_from_directory`\n",
        "\n",
        "**Attention :** pas de data augmentation pour les données de validation."
      ],
      "metadata": {
        "id": "EwzyJO6KbDJP"
      }
    },
    {
      "cell_type": "code",
      "source": [
        "validation_datagen = None\n",
        "\n",
        "validation_gen = None"
      ],
      "metadata": {
        "id": "2cTTXhtZQeI9"
      },
      "execution_count": null,
      "outputs": []
    },
    {
      "cell_type": "markdown",
      "source": [
        "#  Charger un modèle pré-entraîné"
      ],
      "metadata": {
        "id": "I_mQN-MNR77r"
      }
    },
    {
      "cell_type": "markdown",
      "source": [
        "Charger le modèle MobilNetV2.\n",
        "\n",
        "Utilisez la [documentation](https://www.tensorflow.org/api_docs/python/tf/keras/applications/mobilenet_v2/MobileNetV2)."
      ],
      "metadata": {
        "id": "YNf8FtM_bXYW"
      }
    },
    {
      "cell_type": "code",
      "source": [
        "# Create the base model from the pre-trained model MobileNet V2\n",
        "IMG_SHAPE = IMG_SIZE + (3,)\n",
        "base_model = None"
      ],
      "metadata": {
        "id": "nVLGyo_iREWN"
      },
      "execution_count": null,
      "outputs": []
    },
    {
      "cell_type": "markdown",
      "source": [
        "Regarder la dimension de ce que le modèle nous retourne à partir de nos images en (160, 160, 3)."
      ],
      "metadata": {
        "id": "zokbyaTDTF6G"
      }
    },
    {
      "cell_type": "markdown",
      "source": [
        "Utiliser la fonction `predict`pour prédire un batch de *train_gen*."
      ],
      "metadata": {
        "id": "3pysXjEnbkxL"
      }
    },
    {
      "cell_type": "code",
      "source": [
        "feature_batch = None\n",
        "print(feature_batch.shape)"
      ],
      "metadata": {
        "id": "ugP8-4UbR-1z"
      },
      "execution_count": null,
      "outputs": []
    },
    {
      "cell_type": "markdown",
      "source": [
        "Fixer le modèle de base pour que les poids ne soient pas mis-à-jour."
      ],
      "metadata": {
        "id": "MIqP3DjPTMcZ"
      }
    },
    {
      "cell_type": "code",
      "source": [
        "base_model.trainable = False"
      ],
      "metadata": {
        "id": "rrtTXoXQSCzt"
      },
      "execution_count": null,
      "outputs": []
    },
    {
      "cell_type": "markdown",
      "source": [
        "Viualiser l'architecture du modèle pré-entraîné."
      ],
      "metadata": {
        "id": "c4VlMpOMTkJc"
      }
    },
    {
      "cell_type": "markdown",
      "source": [
        "Utilisez la fonction `summary`pour visualiser le modèle *based_model*."
      ],
      "metadata": {
        "id": "ebYb7eZ_bxmP"
      }
    },
    {
      "cell_type": "code",
      "source": [
        "None"
      ],
      "metadata": {
        "id": "ZZXRRLddTkeY"
      },
      "execution_count": null,
      "outputs": []
    },
    {
      "cell_type": "markdown",
      "source": [
        "Moyenner la dernière couche de convolution en un vecteur grâce à la fonction `GlobalAveragePooling2D`."
      ],
      "metadata": {
        "id": "e2SIpzMWTy2J"
      }
    },
    {
      "cell_type": "code",
      "source": [
        "global_average_layer = None\n",
        "feature_batch_average = global_average_layer(feature_batch)\n",
        "print(feature_batch_average.shape)"
      ],
      "metadata": {
        "id": "56SDs5nCTqDP"
      },
      "execution_count": null,
      "outputs": []
    },
    {
      "cell_type": "markdown",
      "source": [
        "Ajoute une couche `Dense` au modèle."
      ],
      "metadata": {
        "id": "YZiNO5N4T-D5"
      }
    },
    {
      "cell_type": "code",
      "source": [
        "prediction_layer = None\n",
        "prediction_batch = prediction_layer(feature_batch_average)\n",
        "print(prediction_batch.shape)"
      ],
      "metadata": {
        "id": "38xk8PdoT8Pw"
      },
      "execution_count": null,
      "outputs": []
    },
    {
      "cell_type": "markdown",
      "source": [
        "Initialiser le nouveau modèle en prenant en compte les deux couches précédentes."
      ],
      "metadata": {
        "id": "NJpYY6RLUFXq"
      }
    },
    {
      "cell_type": "markdown",
      "source": [
        "Initialiser l'architecture suivante :\n",
        "- Dimension d'entrée (160, 160, 3) ;\n",
        "- MobileNetV2\n",
        "- GlobalAveragePolling2D\n",
        "- vecteur dense avec pour fonction d'activation sigmoid."
      ],
      "metadata": {
        "id": "QZLSV0qcb8Jo"
      }
    },
    {
      "cell_type": "code",
      "source": [
        "model = None"
      ],
      "metadata": {
        "id": "nfGS6iZpUBau"
      },
      "execution_count": null,
      "outputs": []
    },
    {
      "cell_type": "markdown",
      "source": [
        "# Compiler le modèle"
      ],
      "metadata": {
        "id": "GWgmI0lrUUCh"
      }
    },
    {
      "cell_type": "markdown",
      "source": [
        "Compiler le modèle avec :\n",
        "- Adam pour fonction d'optimisation\n",
        "- BinaryCrossentropy pour fonction de coût\n",
        "- Accuracy pour métrique de performance"
      ],
      "metadata": {
        "id": "iZCzIdPWcXCP"
      }
    },
    {
      "cell_type": "code",
      "source": [
        "None"
      ],
      "metadata": {
        "id": "1R93i0n_UR-6"
      },
      "execution_count": null,
      "outputs": []
    },
    {
      "cell_type": "markdown",
      "source": [
        "Visualiser le modèle"
      ],
      "metadata": {
        "id": "1vRhr8qeUoX3"
      }
    },
    {
      "cell_type": "code",
      "source": [
        "model.summary()"
      ],
      "metadata": {
        "id": "2fG3XnFcUbHL"
      },
      "execution_count": null,
      "outputs": []
    },
    {
      "cell_type": "markdown",
      "source": [
        "Regarder le nombre de couches entrainables."
      ],
      "metadata": {
        "id": "G8QxSxLgVphm"
      }
    },
    {
      "cell_type": "code",
      "source": [
        "len(model.trainable_variables)"
      ],
      "metadata": {
        "id": "H6QCuS5XVTNZ"
      },
      "execution_count": null,
      "outputs": []
    },
    {
      "cell_type": "markdown",
      "source": [
        "# Entraînement du modèle"
      ],
      "metadata": {
        "id": "MzzdSCcyYJOx"
      }
    },
    {
      "cell_type": "markdown",
      "source": [
        "Entraînement du modèle avec :\n",
        "- 10 epochs\n",
        "- les données de validation"
      ],
      "metadata": {
        "id": "nFnQOQyscos7"
      }
    },
    {
      "cell_type": "code",
      "source": [
        "history = None"
      ],
      "metadata": {
        "id": "cLeH0ao-YQBT"
      },
      "execution_count": null,
      "outputs": []
    },
    {
      "cell_type": "markdown",
      "source": [
        "# Les courbes d'apprentissage"
      ],
      "metadata": {
        "id": "h3zOeTaBaBPu"
      }
    },
    {
      "cell_type": "code",
      "source": [
        "acc = history.history['accuracy']\n",
        "val_acc = history.history['val_accuracy']\n",
        "\n",
        "loss = history.history['loss']\n",
        "val_loss = history.history['val_loss']\n",
        "\n",
        "plt.figure(figsize=(8, 8))\n",
        "plt.subplot(2, 1, 1)\n",
        "plt.plot(acc, label='Training Accuracy')\n",
        "plt.plot(val_acc, label='Validation Accuracy')\n",
        "plt.legend(loc='lower right')\n",
        "plt.ylabel('Accuracy')\n",
        "plt.ylim([min(plt.ylim()),1])\n",
        "plt.title('Training and Validation Accuracy')\n",
        "\n",
        "plt.subplot(2, 1, 2)\n",
        "plt.plot(loss, label='Training Loss')\n",
        "plt.plot(val_loss, label='Validation Loss')\n",
        "plt.legend(loc='upper right')\n",
        "plt.ylabel('Cross Entropy')\n",
        "plt.ylim([0,1.0])\n",
        "plt.title('Training and Validation Loss')\n",
        "plt.xlabel('epoch')\n",
        "plt.show()"
      ],
      "metadata": {
        "id": "RGUIfOLQYRzV"
      },
      "execution_count": null,
      "outputs": []
    },
    {
      "cell_type": "markdown",
      "source": [
        "# Fine tuning"
      ],
      "metadata": {
        "id": "t5BQ88iDaGs4"
      }
    },
    {
      "cell_type": "code",
      "source": [
        "base_model.trainable = True"
      ],
      "metadata": {
        "id": "5Vg8jrMBaHlJ"
      },
      "execution_count": null,
      "outputs": []
    },
    {
      "cell_type": "markdown",
      "source": [
        "Ne rendre entraînbale que les couches après la couche 100."
      ],
      "metadata": {
        "id": "ggVIlWtIc49C"
      }
    },
    {
      "cell_type": "code",
      "source": [
        "# Let's take a look to see how many layers are in the base model\n",
        "print(\"Number of layers in the base model: \", len(base_model.layers))\n",
        "\n",
        "# Fine-tune from this layer onwards\n",
        "fine_tune_at = 100\n",
        "\n",
        "# Freeze all the layers before the `fine_tune_at` layer\n",
        "for layer in base_model.layers[:fine_tune_at]:\n",
        "  layer.trainable = False"
      ],
      "metadata": {
        "id": "dpNikKVNaI-8"
      },
      "execution_count": null,
      "outputs": []
    },
    {
      "cell_type": "markdown",
      "source": [
        "Compiler le nouveau modèle"
      ],
      "metadata": {
        "id": "e3ho5cLLaMsR"
      }
    },
    {
      "cell_type": "code",
      "source": [
        "None"
      ],
      "metadata": {
        "id": "VjEePLjOaKvq"
      },
      "execution_count": null,
      "outputs": []
    },
    {
      "cell_type": "markdown",
      "source": [
        "Visualiser le nouveau modèle"
      ],
      "metadata": {
        "id": "nCQhbDrxaTXh"
      }
    },
    {
      "cell_type": "code",
      "source": [
        "model.summary()"
      ],
      "metadata": {
        "id": "qzcNSp82aSG6"
      },
      "execution_count": null,
      "outputs": []
    },
    {
      "cell_type": "markdown",
      "source": [
        "Regarder combien de couches sont entrainables."
      ],
      "metadata": {
        "id": "OW_sOxvsaRgg"
      }
    },
    {
      "cell_type": "code",
      "source": [
        "len(model.trainable_variables)"
      ],
      "metadata": {
        "id": "cwu--NN4aZ3M"
      },
      "execution_count": null,
      "outputs": []
    },
    {
      "cell_type": "markdown",
      "source": [
        "Continuer l'entraînement du modèle avec toutes les couches entrainables."
      ],
      "metadata": {
        "id": "5Lw24KqGabhJ"
      }
    },
    {
      "cell_type": "markdown",
      "source": [
        "Entraîner le modèle pour :\n",
        "- 10 epochs de plus\n",
        "- le jeu de validation\n",
        "- mentionner que le modèle à déjà 10 épochs d'entraînement."
      ],
      "metadata": {
        "id": "pk-Ivbe5dA3y"
      }
    },
    {
      "cell_type": "code",
      "source": [
        "history_fine = None"
      ],
      "metadata": {
        "id": "FACppYe5aez0"
      },
      "execution_count": null,
      "outputs": []
    },
    {
      "cell_type": "markdown",
      "source": [
        "Agglomération des vecteurs de résultats."
      ],
      "metadata": {
        "id": "2VoLiNkFahu4"
      }
    },
    {
      "cell_type": "code",
      "source": [
        "acc += history_fine.history['accuracy']\n",
        "val_acc += history_fine.history['val_accuracy']\n",
        "\n",
        "loss += history_fine.history['loss']\n",
        "val_loss += history_fine.history['val_loss']"
      ],
      "metadata": {
        "id": "_q3iXAfeai0_"
      },
      "execution_count": null,
      "outputs": []
    },
    {
      "cell_type": "markdown",
      "source": [
        "Visualiser les performances"
      ],
      "metadata": {
        "id": "d8vyOtneaodC"
      }
    },
    {
      "cell_type": "code",
      "source": [
        "plt.figure(figsize=(8, 8))\n",
        "plt.subplot(2, 1, 1)\n",
        "plt.plot(acc, label='Training Accuracy')\n",
        "plt.plot(val_acc, label='Validation Accuracy')\n",
        "plt.ylim([0.8, 1])\n",
        "plt.plot([10-1,10-1],\n",
        "          plt.ylim(), label='Start Fine Tuning')\n",
        "plt.legend(loc='lower right')\n",
        "plt.title('Training and Validation Accuracy')\n",
        "\n",
        "plt.subplot(2, 1, 2)\n",
        "plt.plot(loss, label='Training Loss')\n",
        "plt.plot(val_loss, label='Validation Loss')\n",
        "plt.ylim([0, 1.0])\n",
        "plt.plot([10-1,10-1],\n",
        "         plt.ylim(), label='Start Fine Tuning')\n",
        "plt.legend(loc='upper right')\n",
        "plt.title('Training and Validation Loss')\n",
        "plt.xlabel('epoch')\n",
        "plt.show()"
      ],
      "metadata": {
        "id": "BVIxsw_oarKU"
      },
      "execution_count": null,
      "outputs": []
    },
    {
      "cell_type": "code",
      "source": [
        ""
      ],
      "metadata": {
        "id": "lHiG1KwrargS"
      },
      "execution_count": null,
      "outputs": []
    }
  ]
}